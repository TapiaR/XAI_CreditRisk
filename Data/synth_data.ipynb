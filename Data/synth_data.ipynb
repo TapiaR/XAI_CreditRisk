{
 "cells": [
  {
   "cell_type": "code",
   "execution_count": 1,
   "metadata": {},
   "outputs": [],
   "source": [
    "import numpy as np\n",
    "import pandas as pd\n",
    "from sklearn.model_selection import train_test_split"
   ]
  },
  {
   "cell_type": "code",
   "execution_count": 2,
   "metadata": {},
   "outputs": [],
   "source": [
    "# 1. Set random seed for reproducibility\n",
    "np.random.seed(42)"
   ]
  },
  {
   "cell_type": "code",
   "execution_count": 3,
   "metadata": {},
   "outputs": [],
   "source": [
    "# 2. Parameters for synthetic dataset\n",
    "n_samples = 5000  # number of clients\n",
    "n_features = 5    # number of features"
   ]
  },
  {
   "cell_type": "code",
   "execution_count": 4,
   "metadata": {},
   "outputs": [],
   "source": [
    "# 3. Define feature names\n",
    "feature_names = [f'X{i+1}' for i in range(n_features)]"
   ]
  },
  {
   "cell_type": "code",
   "execution_count": 5,
   "metadata": {},
   "outputs": [],
   "source": [
    "# 4. Assign true importance (weights)\n",
    "# Higher weight => more influence on default\n",
    "true_weights = {\n",
    "    'X1': 3.0,   # High importance\n",
    "    'X2': 1.5,   # Medium importance\n",
    "    'X3': 1.0,   # Medium importance\n",
    "    'X4': 0.0,   # No importance\n",
    "    'X5': 0.0    # No importance\n",
    "}\n",
    "\n",
    "bias = -1.0  # intercept term"
   ]
  },
  {
   "cell_type": "code",
   "execution_count": 6,
   "metadata": {},
   "outputs": [],
   "source": [
    "# 5. Generate random features (normal distribution)\n",
    "X = np.random.normal(0, 1, size=(n_samples, n_features))\n"
   ]
  },
  {
   "cell_type": "code",
   "execution_count": 7,
   "metadata": {},
   "outputs": [],
   "source": [
    "# 6. Calculate the linear combination for logistic function\n",
    "linear_combination = np.dot(X, np.array([true_weights[f] for f in feature_names])) + bias"
   ]
  },
  {
   "cell_type": "code",
   "execution_count": 8,
   "metadata": {},
   "outputs": [],
   "source": [
    "# 7. Apply sigmoid function to get probabilities\n",
    "prob_default = 1 / (1 + np.exp(-linear_combination))"
   ]
  },
  {
   "cell_type": "code",
   "execution_count": 9,
   "metadata": {},
   "outputs": [],
   "source": [
    "# 8. Generate binary target: 1 = default, 0 = no default\n",
    "# Compare probability with a random number between 0 and 1\n",
    "random_probs = np.random.rand(n_samples)\n",
    "y = (random_probs < prob_default).astype(int)"
   ]
  },
  {
   "cell_type": "code",
   "execution_count": 10,
   "metadata": {},
   "outputs": [],
   "source": [
    "# 9. Build final dataset\n",
    "credit_data = pd.DataFrame(X, columns=feature_names)\n",
    "credit_data['default'] = y"
   ]
  },
  {
   "cell_type": "code",
   "execution_count": 15,
   "metadata": {},
   "outputs": [
    {
     "data": {
      "text/html": [
       "<div>\n",
       "<style scoped>\n",
       "    .dataframe tbody tr th:only-of-type {\n",
       "        vertical-align: middle;\n",
       "    }\n",
       "\n",
       "    .dataframe tbody tr th {\n",
       "        vertical-align: top;\n",
       "    }\n",
       "\n",
       "    .dataframe thead th {\n",
       "        text-align: right;\n",
       "    }\n",
       "</style>\n",
       "<table border=\"1\" class=\"dataframe\">\n",
       "  <thead>\n",
       "    <tr style=\"text-align: right;\">\n",
       "      <th></th>\n",
       "      <th>X1</th>\n",
       "      <th>X2</th>\n",
       "      <th>X3</th>\n",
       "      <th>X4</th>\n",
       "      <th>X5</th>\n",
       "      <th>default</th>\n",
       "    </tr>\n",
       "  </thead>\n",
       "  <tbody>\n",
       "    <tr>\n",
       "      <th>0</th>\n",
       "      <td>0.496714</td>\n",
       "      <td>-0.138264</td>\n",
       "      <td>0.647689</td>\n",
       "      <td>1.523030</td>\n",
       "      <td>-0.234153</td>\n",
       "      <td>1</td>\n",
       "    </tr>\n",
       "    <tr>\n",
       "      <th>1</th>\n",
       "      <td>-0.234137</td>\n",
       "      <td>1.579213</td>\n",
       "      <td>0.767435</td>\n",
       "      <td>-0.469474</td>\n",
       "      <td>0.542560</td>\n",
       "      <td>0</td>\n",
       "    </tr>\n",
       "    <tr>\n",
       "      <th>2</th>\n",
       "      <td>-0.463418</td>\n",
       "      <td>-0.465730</td>\n",
       "      <td>0.241962</td>\n",
       "      <td>-1.913280</td>\n",
       "      <td>-1.724918</td>\n",
       "      <td>0</td>\n",
       "    </tr>\n",
       "    <tr>\n",
       "      <th>3</th>\n",
       "      <td>-0.562288</td>\n",
       "      <td>-1.012831</td>\n",
       "      <td>0.314247</td>\n",
       "      <td>-0.908024</td>\n",
       "      <td>-1.412304</td>\n",
       "      <td>0</td>\n",
       "    </tr>\n",
       "    <tr>\n",
       "      <th>4</th>\n",
       "      <td>1.465649</td>\n",
       "      <td>-0.225776</td>\n",
       "      <td>0.067528</td>\n",
       "      <td>-1.424748</td>\n",
       "      <td>-0.544383</td>\n",
       "      <td>1</td>\n",
       "    </tr>\n",
       "    <tr>\n",
       "      <th>...</th>\n",
       "      <td>...</td>\n",
       "      <td>...</td>\n",
       "      <td>...</td>\n",
       "      <td>...</td>\n",
       "      <td>...</td>\n",
       "      <td>...</td>\n",
       "    </tr>\n",
       "    <tr>\n",
       "      <th>4995</th>\n",
       "      <td>0.306033</td>\n",
       "      <td>-0.936234</td>\n",
       "      <td>0.650605</td>\n",
       "      <td>-0.306595</td>\n",
       "      <td>0.663910</td>\n",
       "      <td>0</td>\n",
       "    </tr>\n",
       "    <tr>\n",
       "      <th>4996</th>\n",
       "      <td>0.585984</td>\n",
       "      <td>-0.243012</td>\n",
       "      <td>1.710659</td>\n",
       "      <td>-0.665336</td>\n",
       "      <td>1.348870</td>\n",
       "      <td>1</td>\n",
       "    </tr>\n",
       "    <tr>\n",
       "      <th>4997</th>\n",
       "      <td>1.174933</td>\n",
       "      <td>1.770882</td>\n",
       "      <td>0.174056</td>\n",
       "      <td>-0.788586</td>\n",
       "      <td>2.076797</td>\n",
       "      <td>1</td>\n",
       "    </tr>\n",
       "    <tr>\n",
       "      <th>4998</th>\n",
       "      <td>-0.334701</td>\n",
       "      <td>-0.813543</td>\n",
       "      <td>-0.189787</td>\n",
       "      <td>-0.981691</td>\n",
       "      <td>0.526149</td>\n",
       "      <td>0</td>\n",
       "    </tr>\n",
       "    <tr>\n",
       "      <th>4999</th>\n",
       "      <td>-0.605668</td>\n",
       "      <td>-0.287484</td>\n",
       "      <td>0.967779</td>\n",
       "      <td>0.623693</td>\n",
       "      <td>0.015585</td>\n",
       "      <td>0</td>\n",
       "    </tr>\n",
       "  </tbody>\n",
       "</table>\n",
       "<p>5000 rows × 6 columns</p>\n",
       "</div>"
      ],
      "text/plain": [
       "            X1        X2        X3        X4        X5  default\n",
       "0     0.496714 -0.138264  0.647689  1.523030 -0.234153        1\n",
       "1    -0.234137  1.579213  0.767435 -0.469474  0.542560        0\n",
       "2    -0.463418 -0.465730  0.241962 -1.913280 -1.724918        0\n",
       "3    -0.562288 -1.012831  0.314247 -0.908024 -1.412304        0\n",
       "4     1.465649 -0.225776  0.067528 -1.424748 -0.544383        1\n",
       "...        ...       ...       ...       ...       ...      ...\n",
       "4995  0.306033 -0.936234  0.650605 -0.306595  0.663910        0\n",
       "4996  0.585984 -0.243012  1.710659 -0.665336  1.348870        1\n",
       "4997  1.174933  1.770882  0.174056 -0.788586  2.076797        1\n",
       "4998 -0.334701 -0.813543 -0.189787 -0.981691  0.526149        0\n",
       "4999 -0.605668 -0.287484  0.967779  0.623693  0.015585        0\n",
       "\n",
       "[5000 rows x 6 columns]"
      ]
     },
     "execution_count": 15,
     "metadata": {},
     "output_type": "execute_result"
    }
   ],
   "source": [
    "credit_data"
   ]
  },
  {
   "cell_type": "code",
   "execution_count": 14,
   "metadata": {},
   "outputs": [],
   "source": [
    "credit_data.to_csv('synth_dataset.csv')"
   ]
  }
 ],
 "metadata": {
  "kernelspec": {
   "display_name": "TFM_MUGRF",
   "language": "python",
   "name": "python3"
  },
  "language_info": {
   "codemirror_mode": {
    "name": "ipython",
    "version": 3
   },
   "file_extension": ".py",
   "mimetype": "text/x-python",
   "name": "python",
   "nbconvert_exporter": "python",
   "pygments_lexer": "ipython3",
   "version": "3.11.11"
  }
 },
 "nbformat": 4,
 "nbformat_minor": 2
}
