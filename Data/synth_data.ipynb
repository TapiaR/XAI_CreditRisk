{
 "cells": [
  {
   "cell_type": "code",
   "execution_count": 1,
   "metadata": {},
   "outputs": [],
   "source": [
    "import numpy as np\n",
    "import pandas as pd\n",
    "from sklearn.model_selection import train_test_split"
   ]
  },
  {
   "cell_type": "code",
   "execution_count": 2,
   "metadata": {},
   "outputs": [],
   "source": [
    "# 1. Set random seed for reproducibility\n",
    "np.random.seed(42)"
   ]
  },
  {
   "cell_type": "code",
   "execution_count": 3,
   "metadata": {},
   "outputs": [],
   "source": [
    "# 2. Parameters for synthetic dataset\n",
    "n_samples = 5000  # number of clients\n",
    "n_features = 5    # number of features"
   ]
  },
  {
   "cell_type": "code",
   "execution_count": 4,
   "metadata": {},
   "outputs": [],
   "source": [
    "# 3. Define feature names\n",
    "feature_names = [f'X{i+1}' for i in range(n_features)]"
   ]
  },
  {
   "cell_type": "code",
   "execution_count": 5,
   "metadata": {},
   "outputs": [],
   "source": [
    "# 4. Assign true importance (weights)\n",
    "# Higher weight => more influence on default\n",
    "true_weights = {\n",
    "    'X1': 3.0,   # High importance\n",
    "    'X2': 1.5,   # Medium importance\n",
    "    'X3': 1.0,   # Medium importance\n",
    "    'X4': 0.0,   # No importance\n",
    "    'X5': 0.0    # No importance\n",
    "}\n",
    "\n",
    "bias = -1.0  # intercept term"
   ]
  },
  {
   "cell_type": "code",
   "execution_count": 6,
   "metadata": {},
   "outputs": [],
   "source": [
    "# 5. Generate random features (normal distribution)\n",
    "X = np.random.normal(0, 1, size=(n_samples, n_features))\n"
   ]
  },
  {
   "cell_type": "code",
   "execution_count": 7,
   "metadata": {},
   "outputs": [],
   "source": [
    "# 6. Calculate the linear combination for logistic function\n",
    "linear_combination = np.dot(X, np.array([true_weights[f] for f in feature_names])) + bias"
   ]
  },
  {
   "cell_type": "code",
   "execution_count": 8,
   "metadata": {},
   "outputs": [],
   "source": [
    "# 7. Apply sigmoid function to get probabilities\n",
    "prob_default = 1 / (1 + np.exp(-linear_combination))"
   ]
  },
  {
   "cell_type": "code",
   "execution_count": 9,
   "metadata": {},
   "outputs": [],
   "source": [
    "# 8. Generate binary target: 1 = default, 0 = no default\n",
    "# Compare probability with a random number between 0 and 1\n",
    "random_probs = np.random.rand(n_samples)\n",
    "y = (random_probs < prob_default).astype(int)"
   ]
  },
  {
   "cell_type": "code",
   "execution_count": 10,
   "metadata": {},
   "outputs": [],
   "source": [
    "# 9. Build final dataset\n",
    "credit_data = pd.DataFrame(X, columns=feature_names)\n",
    "credit_data['default'] = y"
   ]
  },
  {
   "cell_type": "code",
   "execution_count": 16,
   "metadata": {},
   "outputs": [
    {
     "data": {
      "image/png": "[encoded data removed]",
      "text/plain": [
       "<Figure size 800x500 with 1 Axes>"
      ]
     },
     "metadata": {},
     "output_type": "display_data"
    }
   ],
   "source": [
    "import matplotlib.pyplot as plt\n",
    "\n",
    "# Crear un DataFrame con las verdaderas importancias\n",
    "true_importance_df = pd.DataFrame({\n",
    "    'Feature': list(true_weights.keys()),\n",
    "    'True Importance': list(true_weights.values())\n",
    "})\n",
    "\n",
    "# Ordenar de mayor a menor importancia\n",
    "true_importance_df = true_importance_df.sort_values(by='True Importance', ascending=False)\n",
    "\n",
    "# Plot\n",
    "plt.figure(figsize=(8, 5))\n",
    "plt.bar(true_importance_df['Feature'], true_importance_df['True Importance'])\n",
    "plt.xlabel('Feature')\n",
    "plt.ylabel('True Importance')\n",
    "plt.title('Importancia Real de Variables en el Dataset Sintético')\n",
    "plt.grid(axis='y')\n",
    "plt.show()\n"
   ]
  },
  {
   "cell_type": "code",
   "execution_count": 14,
   "metadata": {},
   "outputs": [],
   "source": [
    "credit_data.to_csv('synth_dataset.csv')"
   ]
  }
 ],
 "metadata": {
  "kernelspec": {
   "display_name": "TFM_MUGRF",
   "language": "python",
   "name": "python3"
  },
  "language_info": {
   "codemirror_mode": {
    "name": "ipython",
    "version": 3
   },
   "file_extension": ".py",
   "mimetype": "text/x-python",
   "name": "python",
   "nbconvert_exporter": "python",
   "pygments_lexer": "ipython3",
   "version": "3.11.11"
  }
 },
 "nbformat": 4,
 "nbformat_minor": 2
}
